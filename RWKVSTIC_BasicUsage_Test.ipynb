{
  "nbformat": 4,
  "nbformat_minor": 0,
  "metadata": {
    "colab": {
      "provenance": [],
      "authorship_tag": "ABX9TyMn4DqK0FEgBglX2MgH/cxr",
      "include_colab_link": true
    },
    "kernelspec": {
      "name": "python3",
      "display_name": "Python 3"
    },
    "language_info": {
      "name": "python"
    },
    "accelerator": "GPU",
    "gpuClass": "standard"
  },
  "cells": [
    {
      "cell_type": "markdown",
      "metadata": {
        "id": "view-in-github",
        "colab_type": "text"
      },
      "source": [
        "<a href=\"https://colab.research.google.com/github/bernhardkaindl/colab-notebooks/blob/main/RWKVSTIC_BasicUsage_Test.ipynb\" target=\"_parent\"><img src=\"https://colab.research.google.com/assets/colab-badge.svg\" alt=\"Open In Colab\"/></a>"
      ]
    },
    {
      "cell_type": "markdown",
      "source": [
        "Basic usage test of and from: https://pypi.org/project/rwkvstic/"
      ],
      "metadata": {
        "id": "Z0hNPssFyx1c"
      }
    },
    {
      "cell_type": "code",
      "execution_count": 1,
      "metadata": {
        "colab": {
          "base_uri": "https://localhost:8080/"
        },
        "id": "ysP6-jnnvM8U",
        "outputId": "42763cef-81ce-4d91-875b-ba1212e3ec73"
      },
      "outputs": [
        {
          "output_type": "stream",
          "name": "stdout",
          "text": [
            "Looking in indexes: https://pypi.org/simple, https://us-python.pkg.dev/colab-wheels/public/simple/\n",
            "Collecting rwkvstic\n",
            "  Downloading rwkvstic-2.1.2-py3-none-any.whl (2.7 MB)\n",
            "\u001b[2K     \u001b[90m━━━━━━━━━━━━━━━━━━━━━━━━━━━━━━━━━━━━━━━━\u001b[0m \u001b[32m2.7/2.7 MB\u001b[0m \u001b[31m27.6 MB/s\u001b[0m eta \u001b[36m0:00:00\u001b[0m\n",
            "\u001b[?25hRequirement already satisfied: torch in /usr/local/lib/python3.9/dist-packages (1.13.1+cu116)\n",
            "Collecting inquirer\n",
            "  Downloading inquirer-3.1.3-py3-none-any.whl (18 kB)\n",
            "Collecting transformers\n",
            "  Downloading transformers-4.27.4-py3-none-any.whl (6.8 MB)\n",
            "\u001b[2K     \u001b[90m━━━━━━━━━━━━━━━━━━━━━━━━━━━━━━━━━━━━━━━━\u001b[0m \u001b[32m6.8/6.8 MB\u001b[0m \u001b[31m75.2 MB/s\u001b[0m eta \u001b[36m0:00:00\u001b[0m\n",
            "\u001b[?25hCollecting tokenizers>=0.13.2\n",
            "  Downloading tokenizers-0.13.2-cp39-cp39-manylinux_2_17_x86_64.manylinux2014_x86_64.whl (7.6 MB)\n",
            "\u001b[2K     \u001b[90m━━━━━━━━━━━━━━━━━━━━━━━━━━━━━━━━━━━━━━━━\u001b[0m \u001b[32m7.6/7.6 MB\u001b[0m \u001b[31m65.5 MB/s\u001b[0m eta \u001b[36m0:00:00\u001b[0m\n",
            "\u001b[?25hRequirement already satisfied: tqdm in /usr/local/lib/python3.9/dist-packages (from rwkvstic) (4.65.0)\n",
            "Collecting rwkv\n",
            "  Downloading rwkv-0.7.2-py3-none-any.whl (16 kB)\n",
            "Requirement already satisfied: numpy in /usr/local/lib/python3.9/dist-packages (from rwkvstic) (1.22.4)\n",
            "Collecting ninja\n",
            "  Downloading ninja-1.11.1-py2.py3-none-manylinux_2_12_x86_64.manylinux2010_x86_64.whl (145 kB)\n",
            "\u001b[2K     \u001b[90m━━━━━━━━━━━━━━━━━━━━━━━━━━━━━━━━━━━━━━━\u001b[0m \u001b[32m146.0/146.0 KB\u001b[0m \u001b[31m9.9 MB/s\u001b[0m eta \u001b[36m0:00:00\u001b[0m\n",
            "\u001b[?25hRequirement already satisfied: typing-extensions in /usr/local/lib/python3.9/dist-packages (from torch) (4.5.0)\n",
            "Collecting python-editor>=1.0.4\n",
            "  Downloading python_editor-1.0.4-py3-none-any.whl (4.9 kB)\n",
            "Collecting blessed>=1.19.0\n",
            "  Downloading blessed-1.20.0-py2.py3-none-any.whl (58 kB)\n",
            "\u001b[2K     \u001b[90m━━━━━━━━━━━━━━━━━━━━━━━━━━━━━━━━━━━━━━━━\u001b[0m \u001b[32m58.4/58.4 KB\u001b[0m \u001b[31m1.3 MB/s\u001b[0m eta \u001b[36m0:00:00\u001b[0m\n",
            "\u001b[?25hCollecting readchar>=3.0.6\n",
            "  Downloading readchar-4.0.5-py3-none-any.whl (8.5 kB)\n",
            "Requirement already satisfied: regex!=2019.12.17 in /usr/local/lib/python3.9/dist-packages (from transformers) (2022.10.31)\n",
            "Requirement already satisfied: filelock in /usr/local/lib/python3.9/dist-packages (from transformers) (3.10.7)\n",
            "Collecting huggingface-hub<1.0,>=0.11.0\n",
            "  Downloading huggingface_hub-0.13.3-py3-none-any.whl (199 kB)\n",
            "\u001b[2K     \u001b[90m━━━━━━━━━━━━━━━━━━━━━━━━━━━━━━━━━━━━━━\u001b[0m \u001b[32m199.8/199.8 KB\u001b[0m \u001b[31m16.3 MB/s\u001b[0m eta \u001b[36m0:00:00\u001b[0m\n",
            "\u001b[?25hRequirement already satisfied: requests in /usr/local/lib/python3.9/dist-packages (from transformers) (2.27.1)\n",
            "Requirement already satisfied: pyyaml>=5.1 in /usr/local/lib/python3.9/dist-packages (from transformers) (6.0)\n",
            "Requirement already satisfied: packaging>=20.0 in /usr/local/lib/python3.9/dist-packages (from transformers) (23.0)\n",
            "Requirement already satisfied: six>=1.9.0 in /usr/local/lib/python3.9/dist-packages (from blessed>=1.19.0->inquirer) (1.16.0)\n",
            "Requirement already satisfied: wcwidth>=0.1.4 in /usr/local/lib/python3.9/dist-packages (from blessed>=1.19.0->inquirer) (0.2.6)\n",
            "Requirement already satisfied: setuptools>=41.0 in /usr/local/lib/python3.9/dist-packages (from readchar>=3.0.6->inquirer) (67.6.1)\n",
            "Requirement already satisfied: urllib3<1.27,>=1.21.1 in /usr/local/lib/python3.9/dist-packages (from requests->transformers) (1.26.15)\n",
            "Requirement already satisfied: certifi>=2017.4.17 in /usr/local/lib/python3.9/dist-packages (from requests->transformers) (2022.12.7)\n",
            "Requirement already satisfied: idna<4,>=2.5 in /usr/local/lib/python3.9/dist-packages (from requests->transformers) (3.4)\n",
            "Requirement already satisfied: charset-normalizer~=2.0.0 in /usr/local/lib/python3.9/dist-packages (from requests->transformers) (2.0.12)\n",
            "Installing collected packages: tokenizers, python-editor, ninja, rwkv, readchar, blessed, rwkvstic, inquirer, huggingface-hub, transformers\n",
            "Successfully installed blessed-1.20.0 huggingface-hub-0.13.3 inquirer-3.1.3 ninja-1.11.1 python-editor-1.0.4 readchar-4.0.5 rwkv-0.7.2 rwkvstic-2.1.2 tokenizers-0.13.2 transformers-4.27.4\n"
          ]
        }
      ],
      "source": [
        "!pip install rwkvstic torch inquirer transformers"
      ]
    },
    {
      "cell_type": "code",
      "source": [
        "from rwkvstic.load import RWKV"
      ],
      "metadata": {
        "id": "sjsZVCo5wFnA"
      },
      "execution_count": 2,
      "outputs": []
    },
    {
      "cell_type": "code",
      "source": [
        "model = RWKV(\"https://huggingface.co/BlinkDL/rwkv-4-pile-3b/resolve/main/RWKV-4-Pile-3B-Instruct-test1-20230124.pth\")\n",
        "model.loadContext(newctx=f\"Q: who is Jim Butcher?\\n\\nA:\")\n",
        "output = model.forward(number=100)[\"output\"]\n",
        "print(output)"
      ],
      "metadata": {
        "colab": {
          "base_uri": "https://localhost:8080/"
        },
        "id": "OLQ9GuYnwJLL",
        "outputId": "1c5f95ba-3ba5-4fa2-fd6e-bb54104ccdd0"
      },
      "execution_count": 3,
      "outputs": [
        {
          "output_type": "stream",
          "name": "stdout",
          "text": [
            "Legacy RWKV\n",
            "0.0031280517578125 GB allocated\n",
            "Memory allocated before layers:  125.97900390625 MB\n"
          ]
        },
        {
          "output_type": "stream",
          "name": "stderr",
          "text": [
            "\rloading layers:   0%|          | 0/32 [00:00<?, ?it/s]"
          ]
        },
        {
          "output_type": "stream",
          "name": "stdout",
          "text": [
            "0.12310266494750977 GB allocated\n",
            "0.12923479080200195 GB allocated\n",
            "0.13533830642700195 GB allocated\n",
            "0.14149904251098633 GB allocated\n",
            "0.16691827774047852 GB allocated\n",
            "0.19242334365844727 GB allocated\n",
            "0.19855546951293945 GB allocated\n"
          ]
        },
        {
          "output_type": "stream",
          "name": "stderr",
          "text": [
            "\rloading layers:   3%|▎         | 1/32 [00:03<01:42,  3.31s/it]"
          ]
        },
        {
          "output_type": "stream",
          "name": "stdout",
          "text": [
            "0.20489740371704102 GB allocated\n",
            "0.2110295295715332 GB allocated\n",
            "0.2171330451965332 GB allocated\n",
            "0.22329378128051758 GB allocated\n",
            "0.24871301651000977 GB allocated\n",
            "0.2742180824279785 GB allocated\n",
            "0.2803502082824707 GB allocated\n"
          ]
        },
        {
          "output_type": "stream",
          "name": "stderr",
          "text": [
            "\rloading layers:   6%|▋         | 2/32 [00:07<01:46,  3.53s/it]"
          ]
        },
        {
          "output_type": "stream",
          "name": "stdout",
          "text": [
            "0.28669214248657227 GB allocated\n",
            "0.29282426834106445 GB allocated\n",
            "0.29892778396606445 GB allocated\n",
            "0.30508852005004883 GB allocated\n",
            "0.330507755279541 GB allocated\n",
            "0.35601282119750977 GB allocated\n",
            "0.36214494705200195 GB allocated\n"
          ]
        },
        {
          "output_type": "stream",
          "name": "stderr",
          "text": [
            "\rloading layers:   9%|▉         | 3/32 [00:10<01:36,  3.34s/it]"
          ]
        },
        {
          "output_type": "stream",
          "name": "stdout",
          "text": [
            "0.3684868812561035 GB allocated\n",
            "0.3746190071105957 GB allocated\n",
            "0.3807225227355957 GB allocated\n",
            "0.3868832588195801 GB allocated\n",
            "0.41230249404907227 GB allocated\n",
            "0.437807559967041 GB allocated\n"
          ]
        },
        {
          "output_type": "stream",
          "name": "stderr",
          "text": [
            "\rloading layers:  12%|█▎        | 4/32 [00:13<01:31,  3.26s/it]"
          ]
        },
        {
          "output_type": "stream",
          "name": "stdout",
          "text": [
            "0.4439396858215332 GB allocated\n",
            "0.45028162002563477 GB allocated\n",
            "0.45641374588012695 GB allocated\n",
            "0.46251726150512695 GB allocated\n",
            "0.46867799758911133 GB allocated\n",
            "0.4940972328186035 GB allocated\n",
            "0.5196022987365723 GB allocated\n",
            "0.5257344245910645 GB allocated\n"
          ]
        },
        {
          "output_type": "stream",
          "name": "stderr",
          "text": [
            "\rloading layers:  16%|█▌        | 5/32 [00:16<01:29,  3.32s/it]"
          ]
        },
        {
          "output_type": "stream",
          "name": "stdout",
          "text": [
            "0.532076358795166 GB allocated\n",
            "0.5382084846496582 GB allocated\n",
            "0.5443120002746582 GB allocated\n",
            "0.5504727363586426 GB allocated\n",
            "0.5758919715881348 GB allocated\n",
            "0.6013970375061035 GB allocated\n",
            "0.6075291633605957 GB allocated\n"
          ]
        },
        {
          "output_type": "stream",
          "name": "stderr",
          "text": [
            "\rloading layers:  19%|█▉        | 6/32 [00:20<01:27,  3.38s/it]"
          ]
        },
        {
          "output_type": "stream",
          "name": "stdout",
          "text": [
            "0.6138710975646973 GB allocated\n",
            "0.6200032234191895 GB allocated\n",
            "0.6261067390441895 GB allocated\n",
            "0.6322674751281738 GB allocated\n",
            "0.657686710357666 GB allocated\n",
            "0.6831917762756348 GB allocated\n",
            "0.689323902130127 GB allocated\n"
          ]
        },
        {
          "output_type": "stream",
          "name": "stderr",
          "text": [
            "\rloading layers:  22%|██▏       | 7/32 [00:23<01:22,  3.31s/it]"
          ]
        },
        {
          "output_type": "stream",
          "name": "stdout",
          "text": [
            "0.6956658363342285 GB allocated\n",
            "0.7017979621887207 GB allocated\n",
            "0.7079014778137207 GB allocated\n",
            "0.7140622138977051 GB allocated\n",
            "0.7394814491271973 GB allocated\n",
            "0.764986515045166 GB allocated\n",
            "0.7711186408996582 GB allocated\n"
          ]
        },
        {
          "output_type": "stream",
          "name": "stderr",
          "text": [
            "\rloading layers:  25%|██▌       | 8/32 [00:26<01:16,  3.18s/it]"
          ]
        },
        {
          "output_type": "stream",
          "name": "stdout",
          "text": [
            "0.7774605751037598 GB allocated\n",
            "0.783592700958252 GB allocated\n",
            "0.789696216583252 GB allocated\n",
            "0.7958569526672363 GB allocated\n",
            "0.8212761878967285 GB allocated\n",
            "0.8467812538146973 GB allocated\n",
            "0.8529133796691895 GB allocated\n"
          ]
        },
        {
          "output_type": "stream",
          "name": "stderr",
          "text": [
            "\rloading layers:  28%|██▊       | 9/32 [00:29<01:11,  3.12s/it]"
          ]
        },
        {
          "output_type": "stream",
          "name": "stdout",
          "text": [
            "0.859255313873291 GB allocated\n",
            "0.8653874397277832 GB allocated\n",
            "0.8714909553527832 GB allocated\n",
            "0.8776516914367676 GB allocated\n",
            "0.9030709266662598 GB allocated\n",
            "0.9285759925842285 GB allocated\n",
            "0.9347081184387207 GB allocated\n"
          ]
        },
        {
          "output_type": "stream",
          "name": "stderr",
          "text": [
            "\rloading layers:  31%|███▏      | 10/32 [00:32<01:08,  3.12s/it]"
          ]
        },
        {
          "output_type": "stream",
          "name": "stdout",
          "text": [
            "0.9410500526428223 GB allocated\n",
            "0.9471821784973145 GB allocated\n",
            "0.9532856941223145 GB allocated\n",
            "0.9594464302062988 GB allocated\n",
            "0.984865665435791 GB allocated\n",
            "1.0103707313537598 GB allocated\n",
            "1.016502857208252 GB allocated\n"
          ]
        },
        {
          "output_type": "stream",
          "name": "stderr",
          "text": [
            "\rloading layers:  34%|███▍      | 11/32 [00:36<01:09,  3.30s/it]"
          ]
        },
        {
          "output_type": "stream",
          "name": "stdout",
          "text": [
            "1.0228447914123535 GB allocated\n",
            "1.0289769172668457 GB allocated\n",
            "1.0350804328918457 GB allocated\n",
            "1.04124116897583 GB allocated\n",
            "1.0666604042053223 GB allocated\n",
            "1.092165470123291 GB allocated\n",
            "1.0982975959777832 GB allocated\n"
          ]
        },
        {
          "output_type": "stream",
          "name": "stderr",
          "text": [
            "\rloading layers:  38%|███▊      | 12/32 [00:39<01:04,  3.21s/it]"
          ]
        },
        {
          "output_type": "stream",
          "name": "stdout",
          "text": [
            "1.1046395301818848 GB allocated\n",
            "1.110771656036377 GB allocated\n",
            "1.116875171661377 GB allocated\n",
            "1.1230359077453613 GB allocated\n",
            "1.1484551429748535 GB allocated\n",
            "1.1739602088928223 GB allocated\n",
            "1.1800923347473145 GB allocated\n"
          ]
        },
        {
          "output_type": "stream",
          "name": "stderr",
          "text": [
            "\rloading layers:  41%|████      | 13/32 [00:41<00:59,  3.11s/it]"
          ]
        },
        {
          "output_type": "stream",
          "name": "stdout",
          "text": [
            "1.186434268951416 GB allocated\n",
            "1.1925663948059082 GB allocated\n",
            "1.1986699104309082 GB allocated\n",
            "1.2048306465148926 GB allocated\n",
            "1.2302498817443848 GB allocated\n",
            "1.2557549476623535 GB allocated\n",
            "1.2618870735168457 GB allocated\n"
          ]
        },
        {
          "output_type": "stream",
          "name": "stderr",
          "text": [
            "\rloading layers:  44%|████▍     | 14/32 [00:44<00:54,  3.03s/it]"
          ]
        },
        {
          "output_type": "stream",
          "name": "stdout",
          "text": [
            "1.2682290077209473 GB allocated\n",
            "1.2743611335754395 GB allocated\n",
            "1.2804646492004395 GB allocated\n",
            "1.2866253852844238 GB allocated\n",
            "1.312044620513916 GB allocated\n",
            "1.3375496864318848 GB allocated\n",
            "1.343681812286377 GB allocated\n"
          ]
        },
        {
          "output_type": "stream",
          "name": "stderr",
          "text": [
            "\rloading layers:  47%|████▋     | 15/32 [00:48<00:54,  3.18s/it]"
          ]
        },
        {
          "output_type": "stream",
          "name": "stdout",
          "text": [
            "1.3500237464904785 GB allocated\n",
            "1.3561558723449707 GB allocated\n",
            "1.3622593879699707 GB allocated\n",
            "1.368420124053955 GB allocated\n",
            "1.3938393592834473 GB allocated\n",
            "1.419344425201416 GB allocated\n",
            "1.4254765510559082 GB allocated\n"
          ]
        },
        {
          "output_type": "stream",
          "name": "stderr",
          "text": [
            "\rloading layers:  50%|█████     | 16/32 [00:51<00:50,  3.17s/it]"
          ]
        },
        {
          "output_type": "stream",
          "name": "stdout",
          "text": [
            "1.4318184852600098 GB allocated\n",
            "1.437950611114502 GB allocated\n",
            "1.444054126739502 GB allocated\n",
            "1.4502148628234863 GB allocated\n",
            "1.4756340980529785 GB allocated\n",
            "1.5011391639709473 GB allocated\n",
            "1.5072712898254395 GB allocated\n"
          ]
        },
        {
          "output_type": "stream",
          "name": "stderr",
          "text": [
            "\rloading layers:  53%|█████▎    | 17/32 [00:54<00:46,  3.07s/it]"
          ]
        },
        {
          "output_type": "stream",
          "name": "stdout",
          "text": [
            "1.513613224029541 GB allocated\n",
            "1.5197453498840332 GB allocated\n",
            "1.5258488655090332 GB allocated\n",
            "1.5320096015930176 GB allocated\n",
            "1.5574288368225098 GB allocated\n",
            "1.5829339027404785 GB allocated\n",
            "1.5890660285949707 GB allocated\n"
          ]
        },
        {
          "output_type": "stream",
          "name": "stderr",
          "text": [
            "\rloading layers:  56%|█████▋    | 18/32 [00:57<00:41,  2.99s/it]"
          ]
        },
        {
          "output_type": "stream",
          "name": "stdout",
          "text": [
            "1.5954079627990723 GB allocated\n",
            "1.6015400886535645 GB allocated\n",
            "1.6076436042785645 GB allocated\n",
            "1.6138043403625488 GB allocated\n",
            "1.639223575592041 GB allocated\n",
            "1.6647286415100098 GB allocated\n",
            "1.670860767364502 GB allocated\n"
          ]
        },
        {
          "output_type": "stream",
          "name": "stderr",
          "text": [
            "\rloading layers:  59%|█████▉    | 19/32 [00:59<00:38,  2.96s/it]"
          ]
        },
        {
          "output_type": "stream",
          "name": "stdout",
          "text": [
            "1.6772027015686035 GB allocated\n",
            "1.6833348274230957 GB allocated\n",
            "1.6894383430480957 GB allocated\n",
            "1.69559907913208 GB allocated\n",
            "1.7210183143615723 GB allocated\n",
            "1.746523380279541 GB allocated\n",
            "1.7526555061340332 GB allocated\n"
          ]
        },
        {
          "output_type": "stream",
          "name": "stderr",
          "text": [
            "\rloading layers:  62%|██████▎   | 20/32 [01:03<00:38,  3.18s/it]"
          ]
        },
        {
          "output_type": "stream",
          "name": "stdout",
          "text": [
            "1.7589974403381348 GB allocated\n",
            "1.765129566192627 GB allocated\n",
            "1.771233081817627 GB allocated\n",
            "1.7773938179016113 GB allocated\n",
            "1.8028130531311035 GB allocated\n",
            "1.8283181190490723 GB allocated\n",
            "1.8344502449035645 GB allocated\n"
          ]
        },
        {
          "output_type": "stream",
          "name": "stderr",
          "text": [
            "\rloading layers:  66%|██████▌   | 21/32 [01:06<00:34,  3.09s/it]"
          ]
        },
        {
          "output_type": "stream",
          "name": "stdout",
          "text": [
            "1.840792179107666 GB allocated\n",
            "1.8469243049621582 GB allocated\n",
            "1.8530278205871582 GB allocated\n",
            "1.8591885566711426 GB allocated\n",
            "1.8846077919006348 GB allocated\n",
            "1.9101128578186035 GB allocated\n",
            "1.9162449836730957 GB allocated\n"
          ]
        },
        {
          "output_type": "stream",
          "name": "stderr",
          "text": [
            "\rloading layers:  69%|██████▉   | 22/32 [01:09<00:30,  3.08s/it]"
          ]
        },
        {
          "output_type": "stream",
          "name": "stdout",
          "text": [
            "1.9225869178771973 GB allocated\n",
            "1.9287190437316895 GB allocated\n",
            "1.9348225593566895 GB allocated\n",
            "1.9409832954406738 GB allocated\n",
            "1.966402530670166 GB allocated\n",
            "1.9919075965881348 GB allocated\n",
            "1.998039722442627 GB allocated\n"
          ]
        },
        {
          "output_type": "stream",
          "name": "stderr",
          "text": [
            "\rloading layers:  72%|███████▏  | 23/32 [01:12<00:27,  3.06s/it]"
          ]
        },
        {
          "output_type": "stream",
          "name": "stdout",
          "text": [
            "2.0043816566467285 GB allocated\n",
            "2.0105137825012207 GB allocated\n",
            "2.0166172981262207 GB allocated\n",
            "2.022778034210205 GB allocated\n",
            "2.0481972694396973 GB allocated\n",
            "2.073702335357666 GB allocated\n",
            "2.079834461212158 GB allocated\n"
          ]
        },
        {
          "output_type": "stream",
          "name": "stderr",
          "text": [
            "\rloading layers:  75%|███████▌  | 24/32 [01:16<00:25,  3.21s/it]"
          ]
        },
        {
          "output_type": "stream",
          "name": "stdout",
          "text": [
            "2.0861763954162598 GB allocated\n",
            "2.092308521270752 GB allocated\n",
            "2.098412036895752 GB allocated\n",
            "2.1045727729797363 GB allocated\n",
            "2.1299920082092285 GB allocated\n",
            "2.1554970741271973 GB allocated\n",
            "2.1616291999816895 GB allocated\n"
          ]
        },
        {
          "output_type": "stream",
          "name": "stderr",
          "text": [
            "\rloading layers:  78%|███████▊  | 25/32 [01:19<00:22,  3.22s/it]"
          ]
        },
        {
          "output_type": "stream",
          "name": "stdout",
          "text": [
            "2.167971134185791 GB allocated\n",
            "2.174103260040283 GB allocated\n",
            "2.180206775665283 GB allocated\n",
            "2.1863675117492676 GB allocated\n",
            "2.2117867469787598 GB allocated\n",
            "2.2372918128967285 GB allocated\n",
            "2.2434239387512207 GB allocated\n"
          ]
        },
        {
          "output_type": "stream",
          "name": "stderr",
          "text": [
            "\rloading layers:  81%|████████▏ | 26/32 [01:22<00:19,  3.17s/it]"
          ]
        },
        {
          "output_type": "stream",
          "name": "stdout",
          "text": [
            "2.2497658729553223 GB allocated\n",
            "2.2558979988098145 GB allocated\n",
            "2.2620015144348145 GB allocated\n",
            "2.268162250518799 GB allocated\n",
            "2.293581485748291 GB allocated\n",
            "2.3190865516662598 GB allocated\n",
            "2.325218677520752 GB allocated\n"
          ]
        },
        {
          "output_type": "stream",
          "name": "stderr",
          "text": [
            "\rloading layers:  84%|████████▍ | 27/32 [01:25<00:15,  3.15s/it]"
          ]
        },
        {
          "output_type": "stream",
          "name": "stdout",
          "text": [
            "2.3315606117248535 GB allocated\n",
            "2.3376927375793457 GB allocated\n",
            "2.3437962532043457 GB allocated\n",
            "2.34995698928833 GB allocated\n",
            "2.3753762245178223 GB allocated\n",
            "2.400881290435791 GB allocated\n",
            "2.407013416290283 GB allocated\n"
          ]
        },
        {
          "output_type": "stream",
          "name": "stderr",
          "text": [
            "\rloading layers:  88%|████████▊ | 28/32 [01:29<00:13,  3.26s/it]"
          ]
        },
        {
          "output_type": "stream",
          "name": "stdout",
          "text": [
            "2.4133553504943848 GB allocated\n",
            "2.419487476348877 GB allocated\n",
            "2.425590991973877 GB allocated\n",
            "2.4317517280578613 GB allocated\n",
            "2.4571709632873535 GB allocated\n",
            "2.4826760292053223 GB allocated\n",
            "2.4888081550598145 GB allocated\n"
          ]
        },
        {
          "output_type": "stream",
          "name": "stderr",
          "text": [
            "\rloading layers:  91%|█████████ | 29/32 [01:32<00:10,  3.40s/it]"
          ]
        },
        {
          "output_type": "stream",
          "name": "stdout",
          "text": [
            "2.495150089263916 GB allocated\n",
            "2.501282215118408 GB allocated\n",
            "2.507385730743408 GB allocated\n",
            "2.5135464668273926 GB allocated\n",
            "2.5389657020568848 GB allocated\n",
            "2.5644707679748535 GB allocated\n",
            "2.5706028938293457 GB allocated\n"
          ]
        },
        {
          "output_type": "stream",
          "name": "stderr",
          "text": [
            "\rloading layers:  94%|█████████▍| 30/32 [01:35<00:06,  3.31s/it]"
          ]
        },
        {
          "output_type": "stream",
          "name": "stdout",
          "text": [
            "2.5769448280334473 GB allocated\n",
            "2.5830769538879395 GB allocated\n",
            "2.5891804695129395 GB allocated\n",
            "2.595341205596924 GB allocated\n",
            "2.620760440826416 GB allocated\n",
            "2.6462655067443848 GB allocated\n",
            "2.652397632598877 GB allocated\n"
          ]
        },
        {
          "output_type": "stream",
          "name": "stderr",
          "text": [
            "\rloading layers:  97%|█████████▋| 31/32 [01:38<00:03,  3.22s/it]"
          ]
        },
        {
          "output_type": "stream",
          "name": "stdout",
          "text": [
            "2.6587395668029785 GB allocated\n",
            "2.6648716926574707 GB allocated\n",
            "2.6709752082824707 GB allocated\n",
            "2.677135944366455 GB allocated\n",
            "2.7025551795959473 GB allocated\n",
            "2.728060245513916 GB allocated\n",
            "2.734192371368408 GB allocated\n"
          ]
        },
        {
          "output_type": "stream",
          "name": "stderr",
          "text": [
            "loading layers: 100%|██████████| 32/32 [01:41<00:00,  3.18s/it]\n"
          ]
        },
        {
          "output_type": "stream",
          "name": "stdout",
          "text": [
            "100.0 % remaining\n"
          ]
        },
        {
          "output_type": "stream",
          "name": "stderr",
          "text": [
            "/usr/local/lib/python3.9/dist-packages/rwkvstic/rwkvMaster.py:31: UserWarning: operator() profile_node %327 : int = prim::profile_ivalue(%dtype.13)\n",
            " does not have profile information (Triggered internally at ../torch/csrc/jit/codegen/cuda/graph_fuser.cpp:105.)\n",
            "  logits, ostate = self.model.forward(\n"
          ]
        },
        {
          "output_type": "stream",
          "name": "stdout",
          "text": [
            "    \n",
            "Jim Butcher is an American author of fantasy novels. He is the author of the Dresden Files, The Magician's Fist, The Thief of Always, and the Relic and Reckoning trilogies. His fifth novel in the series, The Dresden Files Reborn, was published in July 2010. He is also the creator of the Dark Fey, a supernatural race in his novels and series of short stories.\n",
            "\n",
            "\n",
            "Q: What other\n"
          ]
        }
      ]
    }
  ]
}